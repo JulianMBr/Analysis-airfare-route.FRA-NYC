{
 "cells": [
  {
   "cell_type": "code",
   "execution_count": 1,
   "metadata": {
    "collapsed": true
   },
   "outputs": [
    {
     "name": "stderr",
     "output_type": "stream",
     "text": [
      "\n",
      "Attaching package: ‘dplyr’\n",
      "\n",
      "The following objects are masked from ‘package:stats’:\n",
      "\n",
      "    filter, lag\n",
      "\n",
      "The following objects are masked from ‘package:base’:\n",
      "\n",
      "    intersect, setdiff, setequal, union\n",
      "\n",
      "Loading required package: grid\n",
      "Loading required package: survival\n",
      "Loading required package: Formula\n",
      "Loading required package: ggplot2\n",
      "\n",
      "Attaching package: ‘Hmisc’\n",
      "\n",
      "The following objects are masked from ‘package:dplyr’:\n",
      "\n",
      "    combine, src, summarize\n",
      "\n",
      "The following objects are masked from ‘package:base’:\n",
      "\n",
      "    format.pval, round.POSIXt, trunc.POSIXt, units\n",
      "\n",
      "\n",
      "Attaching package: ‘gplots’\n",
      "\n",
      "The following object is masked from ‘package:stats’:\n",
      "\n",
      "    lowess\n",
      "\n"
     ]
    }
   ],
   "source": [
    "library(dplyr)\n",
    "library(lattice)\n",
    "library(reshape2)\n",
    "library(Hmisc)\n",
    "library(gplots)\n",
    "# Read CSV ----------------------------------------------------------------\n",
    "airfareCSV <- read.csv(\"~/notebooks/AirFare/Data/tripRequest.csv\", header=TRUE, dec=\".\", sep=\";\")\n",
    "# [DataFrame] Drop double&uncess informtion --------------------------------------\n",
    "airfare <- subset(airfareCSV, select = -c(requestString,tripRequest_id,requestDate,tripReturn,sliceDuration,tripStart,tripDestination))\n",
    "airfare <- subset(airfare, select = -c(trip_id.1,trip_id.2,trip_id.3))\n",
    "airfare <- subset(airfare, select = -c(tripOrder.1,tripOrder.2))\n",
    "airfare <- subset(airfare, select = -c(tripRequest_id.1))\n",
    "\n",
    "# Data Formats ------------------------------------------------------------\n",
    "airfare$package <- as.POSIXct(strptime(airfare$package, \"%d-%m-%Y\"))\n",
    "airfare$tripStartDeparture <- as.POSIXct(strptime(airfare$tripStartDeparture, \"%Y-%m-%d %H:%M:%S\"))\n",
    "airfare$tripDestinationDeparture <- as.POSIXct(strptime(airfare$tripDestinationDeparture, \"%Y-%m-%d %H:%M:%S\"))\n",
    "airfare$arrivalTime <- as.POSIXct(strptime(airfare$arrivalTime, \"%Y-%m-%d %H:%M:%S\"))\n",
    "airfare$departureTime <- as.POSIXct(strptime(airfare$departureTime, \"%Y-%m-%d %H:%M:%S\"))"
   ]
  },
  {
   "cell_type": "code",
   "execution_count": 4,
   "metadata": {
    "collapsed": false
   },
   "outputs": [
    {
     "data": {
      "text/html": [
       "<table>\n",
       "<thead><tr><th></th><th scope=col>package</th><th scope=col>trip_id</th><th scope=col>saleTotal</th><th scope=col>tripStartDeparture</th><th scope=col>tripDestinationDeparture</th><th scope=col>tripOrder</th><th scope=col>tripDuration</th><th scope=col>cabin</th><th scope=col>bookingCode</th><th scope=col>bookingCodeCount</th><th scope=col>marriedSegmentGroup</th><th scope=col>flightCarrier</th><th scope=col>flightNumber</th><th scope=col>aircraft</th><th scope=col>arrivalTime</th><th scope=col>departureTime</th><th scope=col>origin</th><th scope=col>destination</th><th scope=col>duration</th><th scope=col>operatingDisclosure</th><th scope=col>mileage</th><th scope=col>meal</th></tr></thead>\n",
       "<tbody>\n",
       "\t<tr><th scope=row>1</th><td>2015-02-27</td><td>118949</td><td>731.46</td><td>2015-03-05 10:50:01</td><td>2015-03-12 20:20:04</td><td>0</td><td>535</td><td>COACH</td><td>L</td><td>9</td><td>0</td><td>LH</td><td>400</td><td>346</td><td>2015-03-05 13:45:05</td><td>2015-03-05 10:50:01</td><td>FRA</td><td>JFK</td><td>535</td><td>NULL</td><td>3844</td><td>Meal</td></tr>\n",
       "\t<tr><th scope=row>2</th><td>2015-02-27</td><td>118949</td><td>731.46</td><td>2015-03-05 10:50:01</td><td>2015-03-12 20:20:04</td><td>1</td><td>475</td><td>COACH</td><td>L</td><td>4</td><td>1</td><td>LH</td><td>7602</td><td>764</td><td>2015-03-13 09:15:01</td><td>2015-03-12 20:20:04</td><td>EWR</td><td>FRA</td><td>475</td><td>OPERATED BY UNITED</td><td>3857</td><td>Meal</td></tr>\n",
       "</tbody>\n",
       "</table>\n"
      ],
      "text/latex": [
       "\\begin{tabular}{r|llllllllllllllllllllll}\n",
       "  & package & trip_id & saleTotal & tripStartDeparture & tripDestinationDeparture & tripOrder & tripDuration & cabin & bookingCode & bookingCodeCount & marriedSegmentGroup & flightCarrier & flightNumber & aircraft & arrivalTime & departureTime & origin & destination & duration & operatingDisclosure & mileage & meal\\\\\n",
       "\\hline\n",
       "\t1 & 2015-02-27 & 118949 & 731.46 & 2015-03-05 10:50:01 & 2015-03-12 20:20:04 & 0 & 535 & COACH & L & 9 & 0 & LH & 400 & 346 & 2015-03-05 13:45:05 & 2015-03-05 10:50:01 & FRA & JFK & 535 & NULL & 3844 & Meal\\\\\n",
       "\t2 & 2015-02-27 & 118949 & 731.46 & 2015-03-05 10:50:01 & 2015-03-12 20:20:04 & 1 & 475 & COACH & L & 4 & 1 & LH & 7602 & 764 & 2015-03-13 09:15:01 & 2015-03-12 20:20:04 & EWR & FRA & 475 & OPERATED BY UNITED & 3857 & Meal\\\\\n",
       "\\end{tabular}\n"
      ],
      "text/plain": [
       "     package trip_id saleTotal  tripStartDeparture tripDestinationDeparture\n",
       "1 2015-02-27  118949    731.46 2015-03-05 10:50:01      2015-03-12 20:20:04\n",
       "2 2015-02-27  118949    731.46 2015-03-05 10:50:01      2015-03-12 20:20:04\n",
       "  tripOrder tripDuration cabin bookingCode bookingCodeCount marriedSegmentGroup\n",
       "1         0          535 COACH           L                9                   0\n",
       "2         1          475 COACH           L                4                   1\n",
       "  flightCarrier flightNumber aircraft         arrivalTime       departureTime\n",
       "1            LH          400      346 2015-03-05 13:45:05 2015-03-05 10:50:01\n",
       "2            LH         7602      764 2015-03-13 09:15:01 2015-03-12 20:20:04\n",
       "  origin destination duration operatingDisclosure mileage meal\n",
       "1    FRA         JFK      535                NULL    3844 Meal\n",
       "2    EWR         FRA      475  OPERATED BY UNITED    3857 Meal"
      ]
     },
     "execution_count": 4,
     "metadata": {},
     "output_type": "execute_result"
    },
    {
     "data": {
      "text/html": [
       "<table>\n",
       "<thead><tr><th></th><th scope=col>package</th><th scope=col>trip_id</th><th scope=col>saleTotal</th><th scope=col>tripStartDeparture</th><th scope=col>tripDestinationDeparture</th><th scope=col>tripOrder</th><th scope=col>tripDuration</th><th scope=col>cabin</th><th scope=col>bookingCode</th><th scope=col>bookingCodeCount</th><th scope=col>marriedSegmentGroup</th><th scope=col>flightCarrier</th><th scope=col>flightNumber</th><th scope=col>aircraft</th><th scope=col>arrivalTime</th><th scope=col>departureTime</th><th scope=col>origin</th><th scope=col>destination</th><th scope=col>duration</th><th scope=col>operatingDisclosure</th><th scope=col>mileage</th><th scope=col>meal</th></tr></thead>\n",
       "<tbody>\n",
       "\t<tr><th scope=row>1</th><td>2015-02-27</td><td>118950</td><td>731.46</td><td>2015-03-05 10:50:01</td><td>2015-03-12 16:55:04</td><td>0</td><td>535</td><td>COACH</td><td>L</td><td>9</td><td>0</td><td>LH</td><td>400</td><td>346</td><td>2015-03-05 13:45:05</td><td>2015-03-05 10:50:01</td><td>FRA</td><td>JFK</td><td>535</td><td>NULL</td><td>3844</td><td>Meal</td></tr>\n",
       "\t<tr><th scope=row>2</th><td>2015-02-27</td><td>118950</td><td>731.46</td><td>2015-03-05 10:50:01</td><td>2015-03-12 16:55:04</td><td>1</td><td>455</td><td>COACH</td><td>L</td><td>9</td><td>1</td><td>LH</td><td>401</td><td>346</td><td>2015-03-13 05:30:01</td><td>2015-03-12 16:55:04</td><td>JFK</td><td>FRA</td><td>455</td><td>NULL</td><td>3844</td><td>Meal</td></tr>\n",
       "</tbody>\n",
       "</table>\n"
      ],
      "text/latex": [
       "\\begin{tabular}{r|llllllllllllllllllllll}\n",
       "  & package & trip_id & saleTotal & tripStartDeparture & tripDestinationDeparture & tripOrder & tripDuration & cabin & bookingCode & bookingCodeCount & marriedSegmentGroup & flightCarrier & flightNumber & aircraft & arrivalTime & departureTime & origin & destination & duration & operatingDisclosure & mileage & meal\\\\\n",
       "\\hline\n",
       "\t1 & 2015-02-27 & 118950 & 731.46 & 2015-03-05 10:50:01 & 2015-03-12 16:55:04 & 0 & 535 & COACH & L & 9 & 0 & LH & 400 & 346 & 2015-03-05 13:45:05 & 2015-03-05 10:50:01 & FRA & JFK & 535 & NULL & 3844 & Meal\\\\\n",
       "\t2 & 2015-02-27 & 118950 & 731.46 & 2015-03-05 10:50:01 & 2015-03-12 16:55:04 & 1 & 455 & COACH & L & 9 & 1 & LH & 401 & 346 & 2015-03-13 05:30:01 & 2015-03-12 16:55:04 & JFK & FRA & 455 & NULL & 3844 & Meal\\\\\n",
       "\\end{tabular}\n"
      ],
      "text/plain": [
       "     package trip_id saleTotal  tripStartDeparture tripDestinationDeparture\n",
       "1 2015-02-27  118950    731.46 2015-03-05 10:50:01      2015-03-12 16:55:04\n",
       "2 2015-02-27  118950    731.46 2015-03-05 10:50:01      2015-03-12 16:55:04\n",
       "  tripOrder tripDuration cabin bookingCode bookingCodeCount marriedSegmentGroup\n",
       "1         0          535 COACH           L                9                   0\n",
       "2         1          455 COACH           L                9                   1\n",
       "  flightCarrier flightNumber aircraft         arrivalTime       departureTime\n",
       "1            LH          400      346 2015-03-05 13:45:05 2015-03-05 10:50:01\n",
       "2            LH          401      346 2015-03-13 05:30:01 2015-03-12 16:55:04\n",
       "  origin destination duration operatingDisclosure mileage meal\n",
       "1    FRA         JFK      535                NULL    3844 Meal\n",
       "2    JFK         FRA      455                NULL    3844 Meal"
      ]
     },
     "execution_count": 4,
     "metadata": {},
     "output_type": "execute_result"
    }
   ],
   "source": [
    "filter(airfare, trip_id==118949) #Only one trip necessary for pricing\n",
    "filter(airfare, trip_id==118950) #Only one trip necessary for pricing"
   ]
  },
  {
   "cell_type": "code",
   "execution_count": null,
   "metadata": {
    "collapsed": true
   },
   "outputs": [],
   "source": []
  }
 ],
 "metadata": {
  "kernelspec": {
   "display_name": "R",
   "language": "R",
   "name": "ir"
  },
  "language_info": {
   "codemirror_mode": "r",
   "file_extension": ".r",
   "mimetype": "text/x-r-source",
   "name": "R",
   "pygments_lexer": "r",
   "version": "3.2.2"
  }
 },
 "nbformat": 4,
 "nbformat_minor": 0
}
