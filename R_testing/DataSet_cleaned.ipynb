{
 "cells": [
  {
   "cell_type": "code",
   "execution_count": 9,
   "metadata": {
    "collapsed": true
   },
   "outputs": [
    {
     "name": "stdout",
     "output_type": "stream",
     "text": [
      "'data.frame':\t114080 obs. of  22 variables:\n",
      " $ package                 : POSIXct, format: \"2015-02-24\" \"2015-02-24\" ...\n",
      " $ trip_id                 : int  103973 103973 103976 103976 103977 103977 103978 103978 103979 103979 ...\n",
      " $ saleTotal               : num  478 478 478 478 556 ...\n",
      " $ tripStartDeparture      : POSIXct, format: \"2015-02-24 13:45:01\" \"2015-02-24 13:45:01\" ...\n",
      " $ tripDestinationDeparture: POSIXct, format: \"2015-03-03 19:31:05\" \"2015-03-03 19:31:05\" ...\n",
      " $ tripOrder               : int  0 1 0 1 0 1 0 1 0 1 ...\n",
      " $ tripDuration            : int  540 499 540 499 535 455 535 475 545 455 ...\n",
      " $ cabin                   : Factor w/ 1 level \"COACH\": 1 1 1 1 1 1 1 1 1 1 ...\n",
      " $ bookingCode             : Factor w/ 15 levels \"B\",\"E\",\"H\",\"K\",..: 13 13 13 13 4 13 14 14 14 14 ...\n",
      " $ bookingCodeCount        : int  9 9 9 9 9 9 4 9 9 4 ...\n",
      " $ marriedSegmentGroup     : int  0 1 0 1 0 1 0 1 0 1 ...\n",
      " $ flightCarrier           : Factor w/ 5 levels \"AF\",\"KL\",\"LH\",..: 2 2 1 1 4 4 5 5 5 5 ...\n",
      " $ flightNumber            : int  6107 6106 3660 3581 26 25 8841 50 51 8838 ...\n",
      " $ aircraft                : Factor w/ 6 levels \"346\",\"388\",\"744\",..: 6 6 6 6 2 2 1 5 5 4 ...\n",
      " $ arrivalTime             : POSIXct, format: \"2015-02-24 16:45:05\" \"2015-03-04 09:50:01\" ...\n",
      " $ departureTime           : POSIXct, format: \"2015-02-24 13:45:01\" \"2015-03-03 19:31:05\" ...\n",
      " $ origin                  : Factor w/ 3 levels \"EWR\",\"FRA\",\"JFK\": 2 3 2 3 2 3 2 1 2 1 ...\n",
      " $ destination             : Factor w/ 3 levels \"EWR\",\"FRA\",\"JFK\": 3 2 3 2 3 2 3 2 1 2 ...\n",
      " $ duration                : int  540 499 540 499 535 455 535 475 545 455 ...\n",
      " $ operatingDisclosure     : Factor w/ 4 levels \"NULL\",\"OPERATED BY DELTA\",..: 2 2 2 2 1 1 3 1 1 3 ...\n",
      " $ mileage                 : int  3844 3844 3844 3844 3844 3844 3844 3857 3857 3857 ...\n",
      " $ meal                    : Factor w/ 3 levels \"Dinner\",\"Lunch\",..: 2 1 2 1 3 3 3 1 2 3 ...\n"
     ]
    }
   ],
   "source": [
    "# Read CSV ----------------------------------------------------------------\n",
    "airfare <- read.csv(\"~/001 - Data/AirFare/Data/tripRequest.csv\", header=TRUE, dec=\".\", sep=\";\")\n",
    "\n",
    "# [DataFrame] Drop double&uncess informtion --------------------------------------\n",
    "airfare <- subset(airfare, select = -c(requestString,tripRequest_id,requestDate,tripReturn,sliceDuration,tripStart,tripDestination))\n",
    "airfare <- subset(airfare, select = -c(trip_id.1,trip_id.2,trip_id.3))\n",
    "airfare <- subset(airfare, select = -c(tripOrder.1,tripOrder.2))\n",
    "airfare <- subset(airfare, select = -c(tripRequest_id.1))\n",
    "\n",
    "\n",
    "# Data Formats ------------------------------------------------------------\n",
    "airfare$package <- as.POSIXct(strptime(airfare$package, \"%d-%m-%Y\"))\n",
    "airfare$tripStartDeparture <- as.POSIXct(strptime(airfare$tripStartDeparture, \"%Y-%m-%d %H:%M:%S\"))\n",
    "airfare$tripDestinationDeparture <- as.POSIXct(strptime(airfare$tripDestinationDeparture, \"%Y-%m-%d %H:%M:%S\"))\n",
    "airfare$arrivalTime <- as.POSIXct(strptime(airfare$arrivalTime, \"%Y-%m-%d %H:%M:%S\"))\n",
    "airfare$departureTime <- as.POSIXct(strptime(airfare$departureTime, \"%Y-%m-%d %H:%M:%S\"))\n",
    "\n",
    "\n",
    "str(airfare)"
   ]
  },
  {
   "cell_type": "code",
   "execution_count": 11,
   "metadata": {
    "collapsed": false,
    "scrolled": true
   },
   "outputs": [
    {
     "name": "stderr",
     "output_type": "stream",
     "text": [
      "Warning message:\n",
      "In write.csv(airfare, file = \"Data/dataFare_cleaned.csv\", dec = \".\", : attempt to set 'sep' ignoredWarning message:\n",
      "In write.csv(airfare, file = \"Data/dataFare_cleaned.csv\", dec = \".\", : attempt to set 'dec' ignored"
     ]
    }
   ],
   "source": [
    "# Write CSV in R\n",
    "write.csv(airfare, file = \"Data/dataFare_cleaned.csv\", dec=\".\", sep=\";\")"
   ]
  },
  {
   "cell_type": "code",
   "execution_count": null,
   "metadata": {
    "collapsed": true
   },
   "outputs": [],
   "source": []
  }
 ],
 "metadata": {
  "kernelspec": {
   "display_name": "R",
   "language": "R",
   "name": "ir"
  },
  "language_info": {
   "codemirror_mode": "r",
   "file_extension": ".r",
   "mimetype": "text/x-r-source",
   "name": "R",
   "pygments_lexer": "r",
   "version": "3.2.2"
  }
 },
 "nbformat": 4,
 "nbformat_minor": 0
}
