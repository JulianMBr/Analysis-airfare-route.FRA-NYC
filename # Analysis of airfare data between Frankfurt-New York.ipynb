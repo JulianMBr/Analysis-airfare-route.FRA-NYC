{
 "cells": [
  {
   "cell_type": "markdown",
   "metadata": {},
   "source": [
    "# Analysis of airfare data between Frankfurt-New York\n",
    "------\n",
    "## Background Information\n",
    "------\n",
    "Today’s internet-based distribution of tickets makes it easy for passengers to compare fares and book tickets from different airlines. At the same time, it allows airlines to assess competitors’ prices accurately and in real time. This project presents a method to support airline pricing strategies through the analysis of fares collected by the developed prototype. \n",
    "\n",
    "On the route Frankfurt–New York City 54,000 nonstop fare quotes were collected to investigate the dynamics of price-setting behaviour as the departure date draws nearer. The method incorporates a descriptive analysis and a correlational research which are used to reveal patterns or other contiguities within the data set. \n",
    "The intertemporal profile of airlines suggests similar pricing strategies across airlines throughout the observation period. Airlines with lower market shares seem to follow the price-setting of airlines with higher market shares. This becomes particularly evident as the departure date approaches. Moreover, the correlational research carried out provides further evidence for competitive analysis in the airline industry as it reveals linear and non-linear correlations between most airlines.\n",
    "\n",
    "_Keywords: airfare, pricing strategies, price dispersion, fare analysis_"
   ]
  },
  {
   "cell_type": "markdown",
   "metadata": {},
   "source": [
    "## Data Collection\n",
    "------\n",
    "With the observation of a fixed time window on a specific route, it is possible to detected changes within fares as time\n",
    "passes. This not only allows an effective investigation of pricing behaviour, but offers as well insights into other areas such as flight frequencies and schedules, code-share services or operated aircraft.\n",
    "\n",
    "| Days before departure \t| Intervals               \t|\n",
    "|-----------------------\t|-------------------------\t|\n",
    "| 59 days               \t| $(I_0)$                 \t|\n",
    "| 58 days               \t| $(I_0, I_1)$            \t|\n",
    "| 57 days               \t| $(I_0, I_1, I_2)$       \t|\n",
    "| ...                   \t| ...                     \t|\n",
    "| 0 days                \t| $(I_0, I_1, ..., I_59)$ \t|\n",
    "\n",
    "### Interval Sample Size\n",
    "------\n",
    "When grouping observations into an interval such as days before departure, a varying number of fare quotes will be collected, which however, usually increases as the departure date draws nearer. Assuming that flights will never be sold out, the smallest interval (e.g. same-day departures) would have the most observations compared to any other interval – the highest interval on the other hand (start of the data collection) will have lowest number of observations.\n",
    "<img src=\"figures/FlightCollection.png\" />\n",
    "This is the result of how the method collects data within a fixed time window – in essence, it \"fills up\" the intervals every day.\n",
    "As the above Table shows, every collected fare quote presents at some point a different interval ($i_\\Delta$) depending only on the date the fare quote was collected.\n",
    "\n",
    "For instance, assume an identical collection window as provided in the Figure above.\n",
    "Basically, each $r_n$ belongs to a different interval which is dependent on the collection date. Hence, an interval can be described as follows: \n",
    "\n",
    "$I = s − c$  \n",
    "\n",
    "where\n",
    "\n",
    "- $I$ : interval (days before departure)\n",
    "- $s$ : date of the fare (flight departure)\n",
    "- $c$ : date on which the fare quote was collected (date of purchase)\n",
    "\n",
    "For example, the fare quotes for the flights departing on 25/02/2015 and returning on 04/03/2015 would fall into two intervals. First, the fare quotes collected on 24/02/2015 would be assigned to the interval hI1i. As for the fare quotes collected a day later (25/02/2015), they would belong to the interval hI0i. Therefore, when collecting fare quotes for 60 days, the initial requests would fill fare quotes into all intervals $(I_0, I_1, ..., I_59)$  whilst on the next day of collection one interval less would be filled $(I_0, I_1, ..., I_58)$. When reaching the last day of collection, the fare quotes collected are same-day flights and therefore within the interval $I_0$. With every day, the amount of fare quotes per interval increases and therefore strengthens both the reliability and the accuracy of the analysis. \n",
    "\n",
    "The calculation of observations per day would be problematic and very tedious not only because the number of scheduled flights and published fares per route varies, but also because of the constantly changing availability of flights and fares. \n",
    "However, under the assumption of unlimited availability and schedules it is possible to create a positive increasing linear model:\n",
    "\n",
    "$obsI = f*x + (t*f)$ where $I = s − c$\n",
    "\n",
    "where\n",
    "\n",
    "- $obsI$ : observations on day d\n",
    "- $f$ : fare quotes per day\n",
    "- $I$ : interval\n",
    "- $s$ : date of the fare (flight departure)\n",
    "- $c$ : date on which the fare was collected\n",
    "\n",
    "\n",
    "## Data Background\n",
    "------\n",
    "The collected data set contains fare quotes for a return trip between **FRA–NYC**, spans from 60 to one day prior to the flight departure and contains 54,547 fare observations.\n",
    "All fare quotes were obtained on a daily basis and always at the same time (midnight 12:00a.m. UTC+1) starting from **February 24 to April 24, 2015 (60 days)**.\n",
    "\n",
    "Each collected fare applies to a **7-day stay non-stop return trip** and only **economy class** fares are taken into account. All the flights scheduled and offered between February 24 and April 24, 2015 were taken into account for the observation.\n",
    "\n",
    "During the collection period, six major carriers were offering fares: \n",
    "- Lufthansa (LH)\n",
    "- United Airlines (UA)\n",
    "- Singapore Airlines (SQ) \n",
    "- Delta Air Lines (AL) \n",
    "- Air France (AF) \n",
    "- KLM Royal Dutch Airlines (KLM) \n",
    "\n",
    "However KLM and AF were selling tickets operated by DL only under a code-share agreement – rather than operating non-stop flights themselves. DL flights are not included as this carrier restricted access to its fare quotes for commercial purposes only. Controversially, KLM and AF offered the restricted flights operated by DL under code-share agreements. However, it remains unclear to which extent these prices are similar to those published by DL. A weekly manual verification\n",
    "during the collection period showed no or only slight differences between the prices of DL, AF and KLM.\n",
    "The cause of the discrepancy between the summary statistics of AF and KLM can only be partially explained. As DL offered only one service per day on the route FRA–JFK and vice versa, AF and KLM usually offered one fare each too.\n",
    "\n",
    "However, AF did not offer these fares on several days on what seemed to be random occasions. This could mean that KLM had sold less seats than AF or that the realised SLF was already so high that no more seats were made available to AF.\n",
    "<p style=\"text-align:center;margin:10px;\"><img src=\"figures/DataFlightPaths.png\" style=\"padding:10px;\" alt=\"Airlines Operating on FRA-NYC Market (non-stop)\"/><em>Airlines Operating on FRA-NYC Market (non-stop)</em></p>\n",
    "\n",
    "As shown in the Figure all airlines were offering fares on the O-D market FRA–JFK, only two of them, LH and UA, were offering flights to EWR and none had scheduled flights to LGA. LH, UA and SQ are members of the Star Alliance while\n",
    "DL, KLM and AF are members of SkyTeam and no airline in the data set was without an alliance.\n",
    "\n",
    "It is notable that LH and UA as well as AF, KLM and DL had existing code-share agreements, which resulted not only in multiple offers for the exact same flight, but also made it possible that each segment of a trip was operated by the other codesharing partner. Multiple carrier flights without code-share agreements between the carriers are excluded from the data set as such flights would include two one-way fares. Within the data set, a specific distinction was made between these two scenarios by recording both the publishing and operating airline of a fare."
   ]
  },
  {
   "cell_type": "markdown",
   "metadata": {},
   "source": [
    "## Data Analysis\n",
    "------\n",
    "### Data Structure\n",
    "------\n",
    "Our data set contains of every request collected, an each request lead to several trips. Each trip as two rows, a trip to the destination and a trip back to the origin of the trip."
   ]
  },
  {
   "cell_type": "code",
   "execution_count": 7,
   "metadata": {
    "collapsed": false
   },
   "outputs": [
    {
     "data": {
      "text/html": [
       "<div>\n",
       "<table border=\"1\" class=\"dataframe\">\n",
       "  <thead>\n",
       "    <tr style=\"text-align: right;\">\n",
       "      <th></th>\n",
       "      <th>package</th>\n",
       "      <th>trip_id</th>\n",
       "      <th>saleTotal</th>\n",
       "      <th>tripStartDeparture</th>\n",
       "      <th>tripDestinationDeparture</th>\n",
       "      <th>tripDuration</th>\n",
       "      <th>cabin</th>\n",
       "      <th>bookingCode</th>\n",
       "      <th>bookingCodeCount</th>\n",
       "      <th>marriedSegmentGroup</th>\n",
       "      <th>flightCarrier</th>\n",
       "      <th>flightNumber</th>\n",
       "      <th>origin</th>\n",
       "      <th>destination</th>\n",
       "      <th>operatingDisclosure</th>\n",
       "      <th>mileage</th>\n",
       "      <th>meal</th>\n",
       "    </tr>\n",
       "  </thead>\n",
       "  <tbody>\n",
       "    <tr>\n",
       "      <th>0</th>\n",
       "      <td>2015-02-24</td>\n",
       "      <td>103973</td>\n",
       "      <td>477.99</td>\n",
       "      <td>2015-02-24 13:45:01</td>\n",
       "      <td>2015-03-03 19:31:05</td>\n",
       "      <td>540</td>\n",
       "      <td>COACH</td>\n",
       "      <td>V</td>\n",
       "      <td>9</td>\n",
       "      <td>0</td>\n",
       "      <td>KL</td>\n",
       "      <td>6107</td>\n",
       "      <td>FRA</td>\n",
       "      <td>JFK</td>\n",
       "      <td>OPERATED BY DELTA</td>\n",
       "      <td>3844</td>\n",
       "      <td>Lunch</td>\n",
       "    </tr>\n",
       "    <tr>\n",
       "      <th>1</th>\n",
       "      <td>2015-02-24</td>\n",
       "      <td>103973</td>\n",
       "      <td>477.99</td>\n",
       "      <td>2015-02-24 13:45:01</td>\n",
       "      <td>2015-03-03 19:31:05</td>\n",
       "      <td>499</td>\n",
       "      <td>COACH</td>\n",
       "      <td>V</td>\n",
       "      <td>9</td>\n",
       "      <td>1</td>\n",
       "      <td>KL</td>\n",
       "      <td>6106</td>\n",
       "      <td>JFK</td>\n",
       "      <td>FRA</td>\n",
       "      <td>OPERATED BY DELTA</td>\n",
       "      <td>3844</td>\n",
       "      <td>Dinner</td>\n",
       "    </tr>\n",
       "    <tr>\n",
       "      <th>2</th>\n",
       "      <td>2015-02-24</td>\n",
       "      <td>103976</td>\n",
       "      <td>477.99</td>\n",
       "      <td>2015-02-24 13:45:01</td>\n",
       "      <td>2015-03-03 19:31:05</td>\n",
       "      <td>540</td>\n",
       "      <td>COACH</td>\n",
       "      <td>V</td>\n",
       "      <td>9</td>\n",
       "      <td>0</td>\n",
       "      <td>AF</td>\n",
       "      <td>3660</td>\n",
       "      <td>FRA</td>\n",
       "      <td>JFK</td>\n",
       "      <td>OPERATED BY DELTA</td>\n",
       "      <td>3844</td>\n",
       "      <td>Lunch</td>\n",
       "    </tr>\n",
       "    <tr>\n",
       "      <th>3</th>\n",
       "      <td>2015-02-24</td>\n",
       "      <td>103976</td>\n",
       "      <td>477.99</td>\n",
       "      <td>2015-02-24 13:45:01</td>\n",
       "      <td>2015-03-03 19:31:05</td>\n",
       "      <td>499</td>\n",
       "      <td>COACH</td>\n",
       "      <td>V</td>\n",
       "      <td>9</td>\n",
       "      <td>1</td>\n",
       "      <td>AF</td>\n",
       "      <td>3581</td>\n",
       "      <td>JFK</td>\n",
       "      <td>FRA</td>\n",
       "      <td>OPERATED BY DELTA</td>\n",
       "      <td>3844</td>\n",
       "      <td>Dinner</td>\n",
       "    </tr>\n",
       "    <tr>\n",
       "      <th>4</th>\n",
       "      <td>2015-02-24</td>\n",
       "      <td>103977</td>\n",
       "      <td>556.31</td>\n",
       "      <td>2015-02-24 08:20:01</td>\n",
       "      <td>2015-03-03 20:25:05</td>\n",
       "      <td>535</td>\n",
       "      <td>COACH</td>\n",
       "      <td>K</td>\n",
       "      <td>9</td>\n",
       "      <td>0</td>\n",
       "      <td>SQ</td>\n",
       "      <td>26</td>\n",
       "      <td>FRA</td>\n",
       "      <td>JFK</td>\n",
       "      <td>NaN</td>\n",
       "      <td>3844</td>\n",
       "      <td>Meal</td>\n",
       "    </tr>\n",
       "  </tbody>\n",
       "</table>\n",
       "</div>"
      ],
      "text/plain": [
       "     package  trip_id  saleTotal  tripStartDeparture tripDestinationDeparture  \\\n",
       "0 2015-02-24   103973     477.99 2015-02-24 13:45:01      2015-03-03 19:31:05   \n",
       "1 2015-02-24   103973     477.99 2015-02-24 13:45:01      2015-03-03 19:31:05   \n",
       "2 2015-02-24   103976     477.99 2015-02-24 13:45:01      2015-03-03 19:31:05   \n",
       "3 2015-02-24   103976     477.99 2015-02-24 13:45:01      2015-03-03 19:31:05   \n",
       "4 2015-02-24   103977     556.31 2015-02-24 08:20:01      2015-03-03 20:25:05   \n",
       "\n",
       "   tripDuration  cabin bookingCode  bookingCodeCount  marriedSegmentGroup  \\\n",
       "0           540  COACH           V                 9                    0   \n",
       "1           499  COACH           V                 9                    1   \n",
       "2           540  COACH           V                 9                    0   \n",
       "3           499  COACH           V                 9                    1   \n",
       "4           535  COACH           K                 9                    0   \n",
       "\n",
       "  flightCarrier  flightNumber origin destination operatingDisclosure  mileage  \\\n",
       "0            KL          6107    FRA         JFK   OPERATED BY DELTA     3844   \n",
       "1            KL          6106    JFK         FRA   OPERATED BY DELTA     3844   \n",
       "2            AF          3660    FRA         JFK   OPERATED BY DELTA     3844   \n",
       "3            AF          3581    JFK         FRA   OPERATED BY DELTA     3844   \n",
       "4            SQ            26    FRA         JFK                 NaN     3844   \n",
       "\n",
       "     meal  \n",
       "0   Lunch  \n",
       "1  Dinner  \n",
       "2   Lunch  \n",
       "3  Dinner  \n",
       "4    Meal  "
      ]
     },
     "execution_count": 7,
     "metadata": {},
     "output_type": "execute_result"
    }
   ],
   "source": [
    "# import libraries\n",
    "import numpy as np\n",
    "import pandas as pd\n",
    "from pandas import DataFrame, Series\n",
    "\n",
    "# libraries and settings\n",
    "%matplotlib inline\n",
    "import matplotlib as mpl\n",
    "import matplotlib.pyplot as plt\n",
    "import seaborn as sns\n",
    "\n",
    "# set config seaborn\n",
    "sns.set(style=\"whitegrid\", color_codes=True)\n",
    "\n",
    " # fix random seed to get same numbers\n",
    "np.random.seed(555)\n",
    "\n",
    "# path to the csv\n",
    "path = r'/home/ubuntu/notebooks/AirFare/Data/tripRequest.csv'\n",
    "\n",
    "# set dataFrame\n",
    "airfare = pd.read_csv(path, \n",
    "                        sep=';', \n",
    "                        usecols=['trip_id', 'package', 'tripStartDeparture', 'tripDestinationDeparture', 'origin', 'destination',\n",
    "                                 'flightCarrier', 'flightNumber', 'cabin', 'saleTotal', 'mileage', 'meal',\n",
    "                                 'tripDuration', 'saleTotal', 'operatingDisclosure', \n",
    "                                 'marriedSegmentGroup', 'bookingCode', 'bookingCodeCount'])\n",
    "airfare['package'] = pd.to_datetime(airfare['package'], format='%d-%m-%Y')\n",
    "airfare['tripStartDeparture'] = pd.to_datetime(airfare['tripStartDeparture'], format='%Y-%m-%d %H:%M:%S')\n",
    "airfare['tripDestinationDeparture'] = pd.to_datetime(airfare['tripDestinationDeparture'], format='%Y-%m-%d %H:%M:%S')\n",
    "\n",
    "# first rows\n",
    "airfare.head()"
   ]
  },
  {
   "cell_type": "markdown",
   "metadata": {},
   "source": [
    "#### Data Types"
   ]
  },
  {
   "cell_type": "code",
   "execution_count": 8,
   "metadata": {
    "collapsed": false
   },
   "outputs": [
    {
     "data": {
      "text/plain": [
       "package                     datetime64[ns]\n",
       "trip_id                              int64\n",
       "saleTotal                          float64\n",
       "tripStartDeparture          datetime64[ns]\n",
       "tripDestinationDeparture    datetime64[ns]\n",
       "tripDuration                         int64\n",
       "cabin                               object\n",
       "bookingCode                         object\n",
       "bookingCodeCount                     int64\n",
       "marriedSegmentGroup                  int64\n",
       "flightCarrier                       object\n",
       "flightNumber                         int64\n",
       "origin                              object\n",
       "destination                         object\n",
       "operatingDisclosure                 object\n",
       "mileage                              int64\n",
       "meal                                object\n",
       "dtype: object"
      ]
     },
     "execution_count": 8,
     "metadata": {},
     "output_type": "execute_result"
    }
   ],
   "source": [
    "airfare.dtypes"
   ]
  },
  {
   "cell_type": "markdown",
   "metadata": {},
   "source": [
    "#### Objects Summary\n",
    "------"
   ]
  },
  {
   "cell_type": "code",
   "execution_count": 9,
   "metadata": {
    "collapsed": false
   },
   "outputs": [
    {
     "data": {
      "text/html": [
       "<div>\n",
       "<table border=\"1\" class=\"dataframe\">\n",
       "  <thead>\n",
       "    <tr style=\"text-align: right;\">\n",
       "      <th></th>\n",
       "      <th>trip_id</th>\n",
       "      <th>saleTotal</th>\n",
       "      <th>tripDuration</th>\n",
       "      <th>bookingCodeCount</th>\n",
       "      <th>marriedSegmentGroup</th>\n",
       "      <th>flightNumber</th>\n",
       "      <th>mileage</th>\n",
       "    </tr>\n",
       "  </thead>\n",
       "  <tbody>\n",
       "    <tr>\n",
       "      <th>count</th>\n",
       "      <td>114080.000000</td>\n",
       "      <td>114080.000000</td>\n",
       "      <td>114080.000000</td>\n",
       "      <td>114080.000000</td>\n",
       "      <td>114080.000000</td>\n",
       "      <td>114080.000000</td>\n",
       "      <td>114080.000000</td>\n",
       "    </tr>\n",
       "    <tr>\n",
       "      <th>mean</th>\n",
       "      <td>194619.819846</td>\n",
       "      <td>862.715791</td>\n",
       "      <td>496.907556</td>\n",
       "      <td>5.919968</td>\n",
       "      <td>0.500000</td>\n",
       "      <td>4327.491339</td>\n",
       "      <td>3850.280181</td>\n",
       "    </tr>\n",
       "    <tr>\n",
       "      <th>std</th>\n",
       "      <td>50507.883484</td>\n",
       "      <td>259.191216</td>\n",
       "      <td>31.765464</td>\n",
       "      <td>2.614402</td>\n",
       "      <td>0.500002</td>\n",
       "      <td>4022.773340</td>\n",
       "      <td>6.496310</td>\n",
       "    </tr>\n",
       "    <tr>\n",
       "      <th>min</th>\n",
       "      <td>103973.000000</td>\n",
       "      <td>446.800000</td>\n",
       "      <td>455.000000</td>\n",
       "      <td>1.000000</td>\n",
       "      <td>0.000000</td>\n",
       "      <td>25.000000</td>\n",
       "      <td>3844.000000</td>\n",
       "    </tr>\n",
       "    <tr>\n",
       "      <th>25%</th>\n",
       "      <td>152118.250000</td>\n",
       "      <td>668.220000</td>\n",
       "      <td>460.000000</td>\n",
       "      <td>4.000000</td>\n",
       "      <td>0.000000</td>\n",
       "      <td>401.000000</td>\n",
       "      <td>3844.000000</td>\n",
       "    </tr>\n",
       "    <tr>\n",
       "      <th>50%</th>\n",
       "      <td>195336.000000</td>\n",
       "      <td>819.540000</td>\n",
       "      <td>502.500000</td>\n",
       "      <td>4.000000</td>\n",
       "      <td>0.500000</td>\n",
       "      <td>3660.000000</td>\n",
       "      <td>3844.000000</td>\n",
       "    </tr>\n",
       "    <tr>\n",
       "      <th>75%</th>\n",
       "      <td>238633.250000</td>\n",
       "      <td>981.460000</td>\n",
       "      <td>525.000000</td>\n",
       "      <td>9.000000</td>\n",
       "      <td>1.000000</td>\n",
       "      <td>8839.000000</td>\n",
       "      <td>3857.000000</td>\n",
       "    </tr>\n",
       "    <tr>\n",
       "      <th>max</th>\n",
       "      <td>279438.000000</td>\n",
       "      <td>2825.220000</td>\n",
       "      <td>545.000000</td>\n",
       "      <td>9.000000</td>\n",
       "      <td>1.000000</td>\n",
       "      <td>8843.000000</td>\n",
       "      <td>3857.000000</td>\n",
       "    </tr>\n",
       "  </tbody>\n",
       "</table>\n",
       "</div>"
      ],
      "text/plain": [
       "             trip_id      saleTotal   tripDuration  bookingCodeCount  \\\n",
       "count  114080.000000  114080.000000  114080.000000     114080.000000   \n",
       "mean   194619.819846     862.715791     496.907556          5.919968   \n",
       "std     50507.883484     259.191216      31.765464          2.614402   \n",
       "min    103973.000000     446.800000     455.000000          1.000000   \n",
       "25%    152118.250000     668.220000     460.000000          4.000000   \n",
       "50%    195336.000000     819.540000     502.500000          4.000000   \n",
       "75%    238633.250000     981.460000     525.000000          9.000000   \n",
       "max    279438.000000    2825.220000     545.000000          9.000000   \n",
       "\n",
       "       marriedSegmentGroup   flightNumber        mileage  \n",
       "count        114080.000000  114080.000000  114080.000000  \n",
       "mean              0.500000    4327.491339    3850.280181  \n",
       "std               0.500002    4022.773340       6.496310  \n",
       "min               0.000000      25.000000    3844.000000  \n",
       "25%               0.000000     401.000000    3844.000000  \n",
       "50%               0.500000    3660.000000    3844.000000  \n",
       "75%               1.000000    8839.000000    3857.000000  \n",
       "max               1.000000    8843.000000    3857.000000  "
      ]
     },
     "execution_count": 9,
     "metadata": {},
     "output_type": "execute_result"
    }
   ],
   "source": [
    "# Let's see what basic information we can get out of the data.\n",
    "airfare.describe()"
   ]
  },
  {
   "cell_type": "markdown",
   "metadata": {},
   "source": [
    "What we can see here that we have quite a dispersed _saleTotal_ variable, containing the all of our prices (<em>careful: double entries due to the \"two-rows-per-trip\" constraint</em>). Both, the _tripDuration_ and _mileage_ variables are relitvaily similiar due to the fact that we have only three different airports FRA, JFK and NEW.\n",
    "\n",
    "The _bookingCodeCount_ variable represents the flight availaibility<sup>1</sup>, which might give us a small glance on the availaibilty of the fare. However, everything above or equal 9 represents a unknown level of availability. Hence, it could be 10 fares left, or even 100.\n",
    "\n",
    "The _flightNumber_ variable indicates that there is alot of codeshare flights in the database. In most cases you can assume that __international__ codeshare flights have number above 1,000. However, this heaviliy depends on the airlines and might be wrong in other cases."
   ]
  },
  {
   "cell_type": "markdown",
   "metadata": {},
   "source": [
    "### Data Exploration\n",
    "#### Offered Flights"
   ]
  },
  {
   "cell_type": "code",
   "execution_count": 10,
   "metadata": {
    "collapsed": false
   },
   "outputs": [
    {
     "data": {
      "text/plain": [
       "<matplotlib.axes._subplots.AxesSubplot at 0x7f72ccd16490>"
      ]
     },
     "execution_count": 10,
     "metadata": {},
     "output_type": "execute_result"
    },
    {
     "data": {
      "image/png": "[encoded data removed]",
      "text/plain": [
       "<matplotlib.figure.Figure at 0x7f72cd50d790>"
      ]
     },
     "metadata": {},
     "output_type": "display_data"
    }
   ],
   "source": [
    "### flights offered\n",
    "months = [\"February\", \"March\", \"April\"]\n",
    "\n",
    "# get data set\n",
    "flights_data = airfare\n",
    "\n",
    "# group flights by departure to get the amount of flights per day\n",
    "flightsPerDayDeparture = flights_data[['tripStartDeparture', 'tripDestinationDeparture', 'flightCarrier']]\n",
    "\n",
    "## get the unique amount of flights per day grouped by the flight carrier\n",
    "## unstack for the right format\n",
    "flightsPerDayDeparture = flightsPerDayDeparture.groupby([pd.Grouper(freq='D', key='tripStartDeparture'), 'flightCarrier'])\n",
    "flightsPerDayDeparture = flightsPerDayDeparture['tripStartDeparture'].apply(lambda x: len(x.unique())).unstack()\n",
    "\n",
    "# fill NaN with zero\n",
    "flightsPerDayDeparture.fillna(0, inplace=True)\n",
    "\n",
    "# create column sum and sum up all flights\n",
    "flightsPerDayDeparture['flightsPerDay'] = (flightsPerDayDeparture.AF+flightsPerDayDeparture.KL+ \n",
    "                                           flightsPerDayDeparture.LH+flightsPerDayDeparture.SQ+ \n",
    "                                           flightsPerDayDeparture.UA)\n",
    "\n",
    "# reset index for incremntal rather than tripStartDeparture\n",
    "flightsPerDayDeparture.reset_index(inplace=True, drop=False)\n",
    "\n",
    "# get month/day and reset the index for pivot\n",
    "flightsPerDayDeparture['Month'] = flightsPerDayDeparture.tripStartDeparture.dt.strftime('%m')\n",
    "flightsPerDayDeparture['Day'] = flightsPerDayDeparture.tripStartDeparture.dt.strftime('%d')\n",
    "\n",
    "# rename counted column as a measure for the amout of flights\n",
    "flightsPerDayDeparture = flightsPerDayDeparture[['Month', 'Day', 'flightsPerDay']]\n",
    "\n",
    "# create pivot table\n",
    "flights = flightsPerDayDeparture.pivot(\"Month\", \"Day\",  \"flightsPerDay\")\n",
    "\n",
    "# adjust size of figure and output heatmap\n",
    "sns.mpl.rc(\"figure\", figsize=(14,2))\n",
    "sns.plt.title('Offered flights from Frankfurt to New York per day (2015)')\n",
    "sns.heatmap(flights, annot=True, yticklabels=months, fmt='g', linewidths=0.1, cbar=False)"
   ]
  },
  {
   "cell_type": "markdown",
   "metadata": {},
   "source": [
    "The figure above shows the offered flights from Frankfurt to New York between 22th of February and 24th of April. It is important to note that the amount of offered flights always is dependet on the time of request. When you look for flights for tomorrow the level of availibility of those flights might less than if you would check for flights in a week.\n",
    "\n",
    "This might be the case for the 22nd of February where 6 flights were offered as the first request was done at the same day at midnight (22/02/2015 00:00). Afterwards the availability is between 9-11 throughout the observation."
   ]
  },
  {
   "cell_type": "markdown",
   "metadata": {},
   "source": [
    "#### Fares by Airlines"
   ]
  },
  {
   "cell_type": "code",
   "execution_count": 11,
   "metadata": {
    "collapsed": false
   },
   "outputs": [
    {
     "data": {
      "text/plain": [
       "<matplotlib.text.Text at 0x7f72cd05d4d0>"
      ]
     },
     "execution_count": 11,
     "metadata": {},
     "output_type": "execute_result"
    },
    {
     "data": {
      "image/png": "[encoded data removed]",
      "text/plain": [
       "<matplotlib.figure.Figure at 0x7f72ccd4b810>"
      ]
     },
     "metadata": {},
     "output_type": "display_data"
    }
   ],
   "source": [
    "## get individual flights (just use the first segment of every trip)\n",
    "flights = airfare.query('marriedSegmentGroup == 0').reset_index(drop=True)\n",
    "\n",
    "# combine flightCarrier and rename operatingDisclosure\n",
    "flights['operatingDisclosure'] = flights.operatingDisclosure.replace(\"OPERATED BY \", \"\", regex=True)\n",
    "flights['operatingDisclosure'] = flights.operatingDisclosure.replace(\"DELTA\", \"(DL)\", regex=True)\n",
    "flights['operatingDisclosure'] = flights.operatingDisclosure.replace(\"LUFTHANSA\", \"(LH)\", regex=True)\n",
    "flights['operatingDisclosure'] = flights.operatingDisclosure.replace(\"UNITED\", \"(UA)\", regex=True)\n",
    "flights['operator'] = flights.flightCarrier.str.cat(flights.operatingDisclosure, na_rep='')\n",
    "\n",
    "# print plot and set title\n",
    "g = sns.factorplot(x=\"operator\", kind=\"count\", size=5, aspect=2.5, data=flights).set_axis_labels(\"Airlines\", \"Fares\")\n",
    "plt.subplots_adjust(top=0.92)\n",
    "g.fig.suptitle('Offered return fares by airlines')"
   ]
  },
  {
   "cell_type": "markdown",
   "metadata": {},
   "source": [
    "LH and UA offered most return fares especially when including their codeshare fares. If we take a cloer look we can actually see that the codeshare flights nearly equals the actual flights. Followed by KL, SQ and AF fares. Even though KL and AF are operated by DL they have different amount of fares offered which suggest a stop sell on those fares for a specific period of time."
   ]
  },
  {
   "cell_type": "markdown",
   "metadata": {},
   "source": [
    "#### Prices of Airlines\n",
    "Let's investigate the price structure of the fares offered by airlines."
   ]
  },
  {
   "cell_type": "code",
   "execution_count": 51,
   "metadata": {
    "collapsed": false
   },
   "outputs": [
    {
     "data": {
      "image/png": "[encoded data removed]",
      "text/plain": [
       "<matplotlib.figure.Figure at 0x7f72c3b44e90>"
      ]
     },
     "metadata": {},
     "output_type": "display_data"
    }
   ],
   "source": [
    "# lets add daysBeforeDeparture variable to the data frame flights\n",
    "flights = flights[1:1000]\n",
    "flights[\"daysBeforeDeparture\"] = (flights.tripStartDeparture-flights.package).astype('timedelta64[D]')\n",
    "\n",
    "#graph\n",
    "color = sns.cubehelix_palette(light=1, as_cmap=True)\n",
    "g= sns.JointGrid(x=\"daysBeforeDeparture\", y=\"saleTotal\", data=flights, xlim=(60,0))\n",
    "g = g.plot_joint(sns.kdeplot)\n",
    "g = g.plot_marginals(sns.kdeplot, color=\"r\", shade=True)\n",
    "g = g.set_axis_labels(\"Advance Booking Days\", \"Fare\")\n",
    "#sns.plt.gca().invert_xaxis()"
   ]
  },
  {
   "cell_type": "markdown",
   "metadata": {
    "collapsed": true
   },
   "source": [
    "## Limitations of the Research Design\n",
    "------\n",
    "Due to the research design, it is important to note that analysing round-trip fares may only cover a sub-set of the many possible return trips available in theory. A large number of fares are offered for any given departure date dependent on the length of stay. The definition of such a sub-set of fares (7 days return-trip) is necessary for\n",
    "research design purposes and results are therefore arbitrary. One-way fares were not taken into account for the analysis.\n",
    "\n",
    "The reason for this is that fares for round-trips offered by full-service carriers (FSCs) are in most cases\n",
    "cheaper than the sum of the corresponding two one-way fares on the same route. The opposite would be the case if the data set included LCCs as those mainly employ one-way pricing strategies.\n",
    "\n",
    "Other known limitations which influenced the results of this project are as follows. First, product differentiations were not considered, which, however, may be is captured to some extent by the price of the fare quote. Second, only the cheapest\n",
    "available fare in the economy class for a specific flight combination were collected – which further limits the data set.  \n",
    "In order to account for the two the destination airports in the data set, JFK and EWR, it is assumed that both can be treated as city-pairs rather than airportpairs.\n",
    "Hence, it is possible to treat both airports as one destination."
   ]
  },
  {
   "cell_type": "markdown",
   "metadata": {},
   "source": [
    "## Further informations and references\n",
    "------\n",
    "<sup>1</sup> Flight Inventory (http://www.travelcodex.com/2012/02/understanding-airline-inventory/)"
   ]
  }
 ],
 "metadata": {
  "kernelspec": {
   "display_name": "Python 2",
   "language": "python",
   "name": "python2"
  },
  "language_info": {
   "codemirror_mode": {
    "name": "ipython",
    "version": 2
   },
   "file_extension": ".py",
   "mimetype": "text/x-python",
   "name": "python",
   "nbconvert_exporter": "python",
   "pygments_lexer": "ipython2",
   "version": "2.7.11"
  }
 },
 "nbformat": 4,
 "nbformat_minor": 0
}
