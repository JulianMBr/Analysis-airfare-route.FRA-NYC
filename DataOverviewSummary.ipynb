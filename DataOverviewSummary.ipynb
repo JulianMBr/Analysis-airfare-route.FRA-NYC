{
 "cells": [
  {
   "cell_type": "code",
   "execution_count": 16,
   "metadata": {
    "collapsed": true
   },
   "outputs": [
    {
     "name": "stderr",
     "output_type": "stream",
     "text": [
      "\n",
      "Attaching package: ‘dplyr’\n",
      "\n",
      "The following objects are masked from ‘package:Hmisc’:\n",
      "\n",
      "    combine, src, summarize\n",
      "\n",
      "The following objects are masked from ‘package:stats’:\n",
      "\n",
      "    filter, lag\n",
      "\n",
      "The following objects are masked from ‘package:base’:\n",
      "\n",
      "    intersect, setdiff, setequal, union\n",
      "\n"
     ]
    }
   ],
   "source": [
    "library(dplyr)\n",
    "library(Hmisc)\n",
    "\n",
    "# Read CSV ----------------------------------------------------------------\n",
    "airfare <- read.csv(\"~/notebooks/AirFare/Data/tripRequest.csv\", header=TRUE, dec=\".\", sep=\";\")\n",
    "\n",
    "# [DataFrame] Drop double&uncess informtion --------------------------------------\n",
    "airfare <- subset(airfare, select = -c(requestString,tripRequest_id,requestDate,tripReturn,sliceDuration,tripStart,tripDestination))\n",
    "airfare <- subset(airfare, select = -c(trip_id.1,trip_id.2,trip_id.3))\n",
    "airfare <- subset(airfare, select = -c(tripOrder.1,tripOrder.2))\n",
    "airfare <- subset(airfare, select = -c(tripRequest_id.1))\n",
    "\n",
    "# Data Formats ------------------------------------------------------------\n",
    "airfare$package <- as.POSIXct(strptime(airfare$package, \"%d-%m-%Y\"))\n",
    "airfare$tripStartDeparture <- as.POSIXct(strptime(airfare$tripStartDeparture, \"%Y-%m-%d %H:%M:%S\"))\n",
    "airfare$tripDestinationDeparture <- as.POSIXct(strptime(airfare$tripDestinationDeparture, \"%Y-%m-%d %H:%M:%S\"))\n",
    "airfare$arrivalTime <- as.POSIXct(strptime(airfare$arrivalTime, \"%Y-%m-%d %H:%M:%S\"))\n",
    "airfare$departureTime <- as.POSIXct(strptime(airfare$departureTime, \"%Y-%m-%d %H:%M:%S\"))"
   ]
  },
  {
   "cell_type": "code",
   "execution_count": 17,
   "metadata": {
    "collapsed": false
   },
   "outputs": [
    {
     "data": {
      "text/plain": [
       "    trip_id          package                    tripStartDeparture           \n",
       " Min.   :103973   Min.   :2015-02-22 00:00:00   Min.   :2015-02-22 08:20:01  \n",
       " 1st Qu.:152118   1st Qu.:2015-03-03 00:00:00   1st Qu.:2015-03-29 17:10:02  \n",
       " Median :195336   Median :2015-03-13 00:00:00   Median :2015-04-09 11:20:02  \n",
       " Mean   :194620   Mean   :2015-03-15 16:10:00   Mean   :2015-04-06 18:31:14  \n",
       " 3rd Qu.:238633   3rd Qu.:2015-03-27 00:00:00   3rd Qu.:2015-04-17 17:10:02  \n",
       " Max.   :279438   Max.   :2015-04-24 00:00:00   Max.   :2015-04-24 17:10:02  \n",
       " flightCarrier   saleTotal                 operatingDisclosure\n",
       " AF: 1356      Min.   : 446.8   NULL                 :27732   \n",
       " KL: 1935      1st Qu.: 668.2   OPERATED BY DELTA    : 3291   \n",
       " LH:25840      Median : 819.5   OPERATED BY LUFTHANSA:19007   \n",
       " SQ: 1692      Mean   : 862.7   OPERATED BY UNITED   : 7010   \n",
       " UA:26217      3rd Qu.: 981.5                                 \n",
       "               Max.   :2825.2                                 "
      ]
     },
     "execution_count": 17,
     "metadata": {},
     "output_type": "execute_result"
    }
   ],
   "source": [
    "# Splitting Data into smaller Packages ------------------------------------\n",
    "#data.fare <- airfare %>% group_by(trip_id) %>% summarise(saleTotal = mean(saleTotal, na.rm=TRUE))\n",
    "subset.fares <- filter(airfare, marriedSegmentGroup==0) #Only one trip necessary for pricing\n",
    "subset.fares <- subset.fares %>% select(trip_id, package, tripStartDeparture, flightCarrier, saleTotal, operatingDisclosure) %>% group_by(trip_id)\n",
    "\n",
    "# output\n",
    "summary(subset.fares)"
   ]
  },
  {
   "cell_type": "code",
   "execution_count": 18,
   "metadata": {
    "collapsed": false
   },
   "outputs": [
    {
     "data": {
      "text/html": [
       "<ol class=list-inline>\n",
       "\t<li>446.8</li>\n",
       "\t<li>668.22</li>\n",
       "\t<li>819.54</li>\n",
       "\t<li>981.46</li>\n",
       "\t<li>2825.22</li>\n",
       "</ol>\n"
      ],
      "text/latex": [
       "\\begin{enumerate*}\n",
       "\\item 446.8\n",
       "\\item 668.22\n",
       "\\item 819.54\n",
       "\\item 981.46\n",
       "\\item 2825.22\n",
       "\\end{enumerate*}\n"
      ],
      "text/markdown": [
       "1. 446.8\n",
       "2. 668.22\n",
       "3. 819.54\n",
       "4. 981.46\n",
       "5. 2825.22\n",
       "\n",
       "\n"
      ],
      "text/plain": [
       "[1]  446.80  668.22  819.54  981.46 2825.22"
      ]
     },
     "execution_count": 18,
     "metadata": {},
     "output_type": "execute_result"
    }
   ],
   "source": [
    "fivenum(subset.fares$saleTotal)"
   ]
  },
  {
   "cell_type": "code",
   "execution_count": 19,
   "metadata": {
    "collapsed": false
   },
   "outputs": [
    {
     "data": {
      "text/plain": [
       "subset.fares \n",
       "\n",
       " 6  Variables      57040  Observations\n",
       "--------------------------------------------------------------------------------\n",
       "trip_id \n",
       "      n missing  unique    Info    Mean     .05     .10     .25     .50     .75 \n",
       "  57040       0   57040       1  194620  112511  121130  152118  195336  238633 \n",
       "    .90     .95 \n",
       " 263487  272088 \n",
       "\n",
       "lowest : 103973 103976 103977 103978 103979\n",
       "highest: 279427 279428 279435 279436 279438 \n",
       "--------------------------------------------------------------------------------\n",
       "package \n",
       "         n    missing     unique       Info       Mean        .05        .10 \n",
       "     57040          0         62          1 2015-03-16 2015-02-24 2015-02-25 \n",
       "       .25        .50        .75        .90        .95 \n",
       "2015-03-03 2015-03-13 2015-03-27 2015-04-07 2015-04-12 \n",
       "\n",
       "lowest : 2015-02-22 2015-02-23 2015-02-24 2015-02-25 2015-02-26\n",
       "highest: 2015-04-20 2015-04-21 2015-04-22 2015-04-23 2015-04-24 \n",
       "--------------------------------------------------------------------------------\n",
       "tripStartDeparture \n",
       "                  n             missing              unique                Info \n",
       "              57040                   0                 335                   1 \n",
       "               Mean                 .05                 .10                 .25 \n",
       "2015-04-06 18:31:14 2015-03-10 10:50:01 2015-03-16 13:30:01 2015-03-29 17:10:02 \n",
       "                .50                 .75                 .90                 .95 \n",
       "2015-04-09 11:20:02 2015-04-17 17:10:02 2015-04-22 10:50:02 2015-04-23 13:20:02 \n",
       "\n",
       "lowest : 2015-02-22 08:20:01 2015-02-22 10:50:01 2015-02-22 11:05:01 2015-02-22 13:30:01 2015-02-22 13:45:01\n",
       "highest: 2015-04-24 10:50:02 2015-04-24 11:20:02 2015-04-24 13:20:02 2015-04-24 13:45:02 2015-04-24 17:10:02 \n",
       "--------------------------------------------------------------------------------\n",
       "flightCarrier \n",
       "      n missing  unique \n",
       "  57040       0       5 \n",
       "\n",
       "            AF   KL    LH   SQ    UA\n",
       "Frequency 1356 1935 25840 1692 26217\n",
       "%            2    3    45    3    46\n",
       "--------------------------------------------------------------------------------\n",
       "saleTotal \n",
       "      n missing  unique    Info    Mean     .05     .10     .25     .50     .75 \n",
       "  57040       0    3156       1   862.7   526.5   625.3   668.2   819.5   981.5 \n",
       "    .90     .95 \n",
       " 1149.5  1324.6 \n",
       "\n",
       "lowest :  446.8  478.0  478.5  484.3  487.4\n",
       "highest: 2384.6 2534.6 2535.2 2821.5 2825.2 \n",
       "--------------------------------------------------------------------------------\n",
       "operatingDisclosure \n",
       "      n missing  unique \n",
       "  57040       0       4 \n",
       "\n",
       "NULL (27732, 49%), OPERATED BY DELTA (3291, 6%) \n",
       "OPERATED BY LUFTHANSA (19007, 33%) \n",
       "OPERATED BY UNITED (7010, 12%) \n",
       "--------------------------------------------------------------------------------"
      ]
     },
     "execution_count": 19,
     "metadata": {},
     "output_type": "execute_result"
    }
   ],
   "source": [
    "describe(subset.fares)"
   ]
  }
 ],
 "metadata": {
  "kernelspec": {
   "display_name": "R",
   "language": "R",
   "name": "ir"
  },
  "language_info": {
   "codemirror_mode": "r",
   "file_extension": ".r",
   "mimetype": "text/x-r-source",
   "name": "R",
   "pygments_lexer": "r",
   "version": "3.2.2"
  }
 },
 "nbformat": 4,
 "nbformat_minor": 0
}
